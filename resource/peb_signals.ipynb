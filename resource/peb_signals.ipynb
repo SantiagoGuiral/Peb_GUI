{
 "cells": [
  {
   "cell_type": "markdown",
   "metadata": {},
   "source": [
    "## Trampa para el parcia de señales"
   ]
  },
  {
   "cell_type": "code",
   "execution_count": 1,
   "metadata": {},
   "outputs": [],
   "source": [
    "import math"
   ]
  },
  {
   "cell_type": "code",
   "execution_count": 2,
   "metadata": {},
   "outputs": [],
   "source": [
    "def q(x):\n",
    "    q=0.5*math.erfc(x/math.sqrt(2))\n",
    "    return q\n",
    "    #return f'{q:.4e}'\n",
    "    "
   ]
  },
  {
   "cell_type": "code",
   "execution_count": 3,
   "metadata": {},
   "outputs": [],
   "source": [
    "def voltage (at,vt):\n",
    "    vr=vt*10**(-at/20)\n",
    "    return vr\n",
    "\n",
    "def sigma (N):\n",
    "    sigma=math.sqrt(N)\n",
    "    return sigma"
   ]
  },
  {
   "cell_type": "code",
   "execution_count": 4,
   "metadata": {},
   "outputs": [],
   "source": [
    "def peb(bits,ProbErrorTramos):\n",
    "    P=1\n",
    "    unos=bits.count(\"1\")\n",
    "    if(unos%2!=0):\n",
    "        for pos in range(len(bits)):\n",
    "            if bits[pos]==\"1\":\n",
    "                P*=ProbErrorTramos[pos]\n",
    "            else:\n",
    "                P*=(1-ProbErrorTramos[pos])\n",
    "        return P\n",
    "    else:\n",
    "        return 0    "
   ]
  },
  {
   "cell_type": "code",
   "execution_count": 5,
   "metadata": {},
   "outputs": [
    {
     "name": "stdin",
     "output_type": "stream",
     "text": [
      "P 20,10,0.04\n",
      "P 22,10,0.045\n",
      "P 25,10,0.05\n",
      "P 18,20,0.04\n",
      "P 10,20,0.05\n"
     ]
    }
   ],
   "source": [
    "tramos=5\n",
    "a=1\n",
    "b=2\n",
    "ProbErrorTramos=[]\n",
    "xtmp=[]\n",
    "for it in range(tramos):\n",
    "    parameters=input(\"P\")\n",
    "    At,Vt,N=[float(i) for i in parameters.split(\",\")]\n",
    "    x=(a*voltage(At,Vt))/(b*sigma(N))\n",
    "    xtmp.append(x)\n",
    "    ProbErrorTramos.append(q(x))"
   ]
  },
  {
   "cell_type": "code",
   "execution_count": 6,
   "metadata": {},
   "outputs": [
    {
     "name": "stdout",
     "output_type": "stream",
     "text": [
      "[0.006209665325776139, 0.030586039673592375, 0.10429836523119583, 1.5406989515313681e-10, 1.0442437918812724e-45]\n"
     ]
    }
   ],
   "source": [
    "print (ProbErrorTramos)"
   ]
  },
  {
   "cell_type": "code",
   "execution_count": 7,
   "metadata": {},
   "outputs": [
    {
     "name": "stdout",
     "output_type": "stream",
     "text": [
      "[2.5, 1.87224960420493, 1.2574334296829355, 6.294627058970836, 14.142135623730951]\n"
     ]
    }
   ],
   "source": [
    "print(xtmp)"
   ]
  },
  {
   "cell_type": "markdown",
   "metadata": {},
   "source": [
    "## Probabilidad de error"
   ]
  },
  {
   "cell_type": "code",
   "execution_count": 8,
   "metadata": {},
   "outputs": [
    {
     "name": "stdout",
     "output_type": "stream",
     "text": [
      "The total error probability is: 13.3118%\n"
     ]
    }
   ],
   "source": [
    "pTotal=0\n",
    "pTramo=[]\n",
    "for i in range(2**tramos):\n",
    "    bits=bin(i).lstrip(\"-0b\").zfill(tramos)\n",
    "    error=peb(bits,ProbErrorTramos)\n",
    "    pTramo.append(error)\n",
    "    pTotal+=error\n",
    "    \n",
    "print (f'The total error probability is: {pTotal:.4%}')"
   ]
  },
  {
   "cell_type": "code",
   "execution_count": null,
   "metadata": {},
   "outputs": [],
   "source": []
  }
 ],
 "metadata": {
  "kernelspec": {
   "display_name": "Python 3",
   "language": "python",
   "name": "python3"
  },
  "language_info": {
   "codemirror_mode": {
    "name": "ipython",
    "version": 3
   },
   "file_extension": ".py",
   "mimetype": "text/x-python",
   "name": "python",
   "nbconvert_exporter": "python",
   "pygments_lexer": "ipython3",
   "version": "3.8.2"
  }
 },
 "nbformat": 4,
 "nbformat_minor": 4
}
